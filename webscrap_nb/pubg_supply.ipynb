{
 "cells": [
  {
   "cell_type": "code",
   "execution_count": 2,
   "id": "cf000b4a-9dcc-4cc8-a337-15b7433a27f9",
   "metadata": {},
   "outputs": [],
   "source": [
    "import pandas as pd\n",
    "import numpy as np\n",
    "\n",
    "import gc\n",
    "from tqdm import tqdm\n",
    "import time\n",
    "import os\n",
    "import warnings\n",
    "from datetime import datetime\n",
    "\n",
    "from chicken_dinner.pubgapi import PUBG\n",
    "from chicken_dinner.constants import map_dimensions\n",
    "\n",
    "import pymysql\n",
    "from sqlalchemy import create_engine\n",
    "\n",
    "pd.set_option('display.max_columns', None)\n",
    "pd.set_option('display.max_rows', 200)\n",
    "\n",
    "warnings.filterwarnings(action = 'ignore')\n",
    "\n",
    "path = os.getcwd()\n",
    "data_path = os.path.join(path, 'data')"
   ]
  },
  {
   "cell_type": "markdown",
   "id": "6df1fe6b-2c60-4515-9a7f-cc34807f41bd",
   "metadata": {},
   "source": [
    "## Functions for web scrap supply object"
   ]
  },
  {
   "cell_type": "code",
   "execution_count": 7,
   "id": "0a12d520-c266-46b2-a162-e2e2d5f4b006",
   "metadata": {},
   "outputs": [],
   "source": [
    "def get_telemetry(match_id, map_name):\n",
    "\n",
    "    current_match = pubg.match(match_id)\n",
    "    telemetry = current_match.get_telemetry()\n",
    "\n",
    "    if map_name == 'Tiger_Main':\n",
    "        mapx, mapy = map_dimensions['Desert_Main']\n",
    "    else:\n",
    "        mapx, mapy = map_dimensions[map_name]\n",
    "        \n",
    "    return telemetry, mapy"
   ]
  },
  {
   "cell_type": "code",
   "execution_count": 8,
   "id": "123b3a22-e37a-484c-9fa5-05b22eef1bdb",
   "metadata": {},
   "outputs": [],
   "source": [
    "def change_date_format(timestamp):\n",
    "    timestamp = pd.Timestamp(timestamp).to_pydatetime().replace(tzinfo=None)\n",
    "    return timestamp"
   ]
  },
  {
   "cell_type": "code",
   "execution_count": 9,
   "id": "e2d3c1bb-1849-416f-b110-ae3efb725aa1",
   "metadata": {},
   "outputs": [],
   "source": [
    "def rename_column_names(column_names):\n",
    "    if len(column_names.split('.')) > 2:\n",
    "        return ('_').join(column_names.split('.')[-2:])\n",
    "    else:\n",
    "        return column_names.split('.')[-1]"
   ]
  },
  {
   "cell_type": "code",
   "execution_count": 10,
   "id": "f71d459e-53da-4fee-b7f4-05a8e60bec00",
   "metadata": {},
   "outputs": [],
   "source": [
    "def get_weapon_name(items):\n",
    "    try:\n",
    "        return [item['item_id'] for item in items if item['sub_category'] == 'Main'][0]\n",
    "    except IndexError:\n",
    "        return np.NaN"
   ]
  },
  {
   "cell_type": "code",
   "execution_count": 11,
   "id": "18092fda-1e22-4781-8c8a-700a1beadf47",
   "metadata": {},
   "outputs": [],
   "source": [
    "def get_supply_df(telemetry, mapy):\n",
    "\n",
    "    care_package_land_sample_df = pd.DataFrame()\n",
    "    \n",
    "    care_package_lands = telemetry.filter_by('log_care_package_land')\n",
    "\n",
    "    # get care paackage dataframe of a match\n",
    "    for care_package_land in care_package_lands:\n",
    "        care_package_land_sample_df = pd.concat([care_package_land_sample_df, pd.json_normalize(care_package_land.to_dict())], axis = 0, ignore_index = True)\n",
    "\n",
    "    # match table을 참조하는 Foreign key column\n",
    "    care_package_land_sample_df['match_id'] = match_id\n",
    "\n",
    "    # rename columns\n",
    "    care_package_land_sample_df.columns = list(map(lambda x: rename_column_names(x), care_package_land_sample_df.columns.tolist()))\n",
    "    care_package_land_sample_df = care_package_land_sample_df.rename(columns = {'_D': 'log_created_time'})\n",
    "\n",
    "    care_package_land_sample_df.loc[:, 'items'] = care_package_land_sample_df.loc[:, 'items'].apply(lambda x: get_weapon_name(x))\n",
    "    care_package_land_sample_df.loc[care_package_land_sample_df['items'] == 'None', 'items'] = np.nan\n",
    "    \n",
    "    # map 시각화를 위해 y axis dimension 변경\n",
    "    care_package_land_sample_df.loc[:, 'location_y'] = mapy - care_package_land_sample_df.loc[:, 'location_y']\n",
    "\n",
    "    # date format 변경\n",
    "    care_package_land_sample_df.loc[:, 'log_created_time'] = care_package_land_sample_df.loc[:, 'log_created_time'].apply(lambda x: change_date_format(x))\n",
    "    \n",
    "    # 불필요한 컬럼 제거\n",
    "    care_package_land_sample_df = care_package_land_sample_df.drop('_T', axis = 1)\n",
    "\n",
    "    return care_package_land_sample_df"
   ]
  },
  {
   "cell_type": "markdown",
   "id": "b6c8ff5b-65c1-45b4-b3e6-e1c31805410e",
   "metadata": {},
   "source": [
    "## Get supply table by match id's from match_data"
   ]
  },
  {
   "cell_type": "code",
   "execution_count": 12,
   "id": "962d1bef-88b1-4b4c-8af1-dc632a7e3728",
   "metadata": {},
   "outputs": [
    {
     "name": "stderr",
     "output_type": "stream",
     "text": [
      "100%|███████████████████████████████████████████████████████████████████████████████████████████████| 47/47 [03:18<00:00,  4.23s/it]\n"
     ]
    }
   ],
   "source": [
    "%%time\n",
    "\n",
    "# PUBG api authorize\n",
    "pubg = PUBG(api_key, shard = 'kakao')\n",
    "\n",
    "supply_df = pd.DataFrame()\n",
    "match_json = pd.read_json(os.path.join(data_path, 'match_data.json'))\n",
    "\n",
    "for idx in tqdm(range(len(match_json))):\n",
    "\n",
    "    match_id = match_json['data.id'][idx]\n",
    "    map_name = match_json['data.attributes.mapName'][idx]\n",
    "    \n",
    "    telemetry, mapy = get_telemetry(match_id, map_name)\n",
    "    \n",
    "    supply_df = pd.concat([supply_df, get_supply_df(telemetry, mapy)], axis = 0, ignore_index = True)\n",
    "    \n",
    "print(f'shape of Supply df: {supply_df.shape}')"
   ]
  },
  {
   "cell_type": "markdown",
   "id": "fb5e14d5-bca6-496b-9d5c-63ee07213c9b",
   "metadata": {
    "tags": []
   },
   "source": [
    "## Insert into database"
   ]
  },
  {
   "cell_type": "code",
   "execution_count": null,
   "id": "046d0bb9-2045-491d-a007-6dc4833c861b",
   "metadata": {},
   "outputs": [],
   "source": [
    "# # local\n",
    "# user = 'root'\n",
    "# password = 'mysql'\n",
    "# host = 'localhost'\n",
    "# port = 3306\n",
    "# database = 'pubg'\n",
    "\n",
    "# gcp\n",
    "user = ''\n",
    "password = ''\n",
    "host = ''\n",
    "port = \n",
    "database = ''"
   ]
  },
  {
   "cell_type": "code",
   "execution_count": null,
   "id": "061cf2b7-9c42-4282-846f-4db09e6d94e1",
   "metadata": {},
   "outputs": [],
   "source": [
    "def insert_data_to_db(data, table_name, connection, if_exist = 'append'):\n",
    "    \n",
    "    data.to_sql(index = False,\n",
    "                name = table_name,\n",
    "                con = connection,\n",
    "                if_exists = if_exist,\n",
    "                method = 'multi')"
   ]
  },
  {
   "cell_type": "code",
   "execution_count": null,
   "id": "ccd1c9f3-229d-44ad-8d0c-43a1e1df712d",
   "metadata": {},
   "outputs": [],
   "source": [
    "%%time\n",
    "\n",
    "engine = create_engine(f'mysql+pymysql://{user}:{password}@{host}:{port}/{database}', encoding = 'utf-8')\n",
    "engine_conn = engine_connect()\n",
    "\n",
    "insert_data_to_db(damage_df, 'damage', engine_conn)\n",
    "engine_conn.close()"
   ]
  }
 ],
 "metadata": {
  "kernelspec": {
   "display_name": "Python 3 (ipykernel)",
   "language": "python",
   "name": "python3"
  },
  "language_info": {
   "codemirror_mode": {
    "name": "ipython",
    "version": 3
   },
   "file_extension": ".py",
   "mimetype": "text/x-python",
   "name": "python",
   "nbconvert_exporter": "python",
   "pygments_lexer": "ipython3",
   "version": "3.8.12"
  }
 },
 "nbformat": 4,
 "nbformat_minor": 5
}
