{
 "cells": [
  {
   "cell_type": "code",
   "execution_count": 1,
   "id": "cf000b4a-9dcc-4cc8-a337-15b7433a27f9",
   "metadata": {},
   "outputs": [],
   "source": [
    "import pandas as pd\n",
    "import numpy as np\n",
    "\n",
    "import gc\n",
    "from tqdm import tqdm\n",
    "import time\n",
    "import os\n",
    "import warnings\n",
    "from datetime import datetime\n",
    "\n",
    "from chicken_dinner.pubgapi import PUBG\n",
    "from chicken_dinner.constants import map_dimensions\n",
    "\n",
    "import pymysql\n",
    "from sqlalchemy import create_engine\n",
    "\n",
    "pd.set_option('display.max_columns', None)\n",
    "pd.set_option('display.max_rows', 200)\n",
    "\n",
    "warnings.filterwarnings(action = 'ignore')\n",
    "\n",
    "path = os.getcwd()\n",
    "data_path = os.path.join('/Users/thkim/Documents/pubg', 'data')"
   ]
  },
  {
   "cell_type": "markdown",
   "id": "28bf1a35-7df9-4dcb-9f92-7fb0afb67837",
   "metadata": {},
   "source": [
    "## functions for web scrap damage object"
   ]
  },
  {
   "cell_type": "code",
   "execution_count": 15,
   "id": "123b3a22-e37a-484c-9fa5-05b22eef1bdb",
   "metadata": {},
   "outputs": [],
   "source": [
    "def change_date_format(timestamp):\n",
    "    timestamp = pd.Timestamp(timestamp).to_pydatetime().replace(tzinfo=None)\n",
    "    return timestamp"
   ]
  },
  {
   "cell_type": "code",
   "execution_count": 8,
   "id": "0a12d520-c266-46b2-a162-e2e2d5f4b006",
   "metadata": {},
   "outputs": [],
   "source": [
    "def get_telemetry(match_id, map_name):\n",
    "\n",
    "    current_match = pubg.match(match_id)\n",
    "    telemetry = current_match.get_telemetry()\n",
    "\n",
    "    if map_name == 'Tiger_Main':\n",
    "        mapx, mapy = map_dimensions['Desert_Main']\n",
    "    else:\n",
    "        mapx, mapy = map_dimensions[map_name]\n",
    "        \n",
    "    return telemetry, mapy"
   ]
  },
  {
   "cell_type": "code",
   "execution_count": 20,
   "id": "18092fda-1e22-4781-8c8a-700a1beadf47",
   "metadata": {},
   "outputs": [],
   "source": [
    "def get_damage_df(telemetry, mapy):\n",
    "\n",
    "    damage_sample_df = pd.DataFrame()\n",
    "    damages = telemetry.filter_by('log_player_take_damage')\n",
    "\n",
    "    # get damage dataframe of a match\n",
    "    for damage in damages:\n",
    "        damage_sample_df = pd.concat([damage_sample_df, pd.json_normalize(damage.to_dict())], axis = 0, ignore_index = True)\n",
    "\n",
    "    # match table을 참조하는 Foreign key column\n",
    "    damage_sample_df['match_id'] = match_id\n",
    "\n",
    "    # rename columns\n",
    "    damage_sample_df.columns = list(map(lambda x: x.replace('.', '_'), damage_sample_df.columns.tolist()))\n",
    "    damage_sample_df = damage_sample_df.rename(columns = {'_D': 'log_created_time'\n",
    "                                                         ,'common_is_game': 'is_game'})\n",
    "\n",
    "    # DB에 삽입하기 위해 single string or None이 포함된 list를 string으로 변환\n",
    "    damage_sample_df.loc[:, 'attacker_zone'] = damage_sample_df.loc[:, 'attacker_zone'][damage_sample_df.loc[:, 'attacker_zone'].notnull()].apply(lambda x: x[0] if len(x) > 0 else np.NaN)\n",
    "    damage_sample_df.loc[:, 'victim_zone'] = damage_sample_df.loc[:, 'victim_zone'].apply(lambda x: x[0] if len(x) > 0 else np.NaN)\n",
    "\n",
    "    # is_game의 0.1 값이 0.1000000001과 같은 값으로 저장되어 있어서 round 처리\n",
    "    damage_sample_df.loc[:, 'is_game'] = round(damage_sample_df.loc[:, 'is_game'], 1)\n",
    "\n",
    "    # map 시각화를 위해 y axis dimension 변경\n",
    "    damage_sample_df.loc[:, 'attacker_location_y'] = mapy - damage_sample_df.loc[:, 'attacker_location_y']\n",
    "    damage_sample_df.loc[:, 'victim_location_y'] = mapy - damage_sample_df.loc[:, 'victim_location_y']\n",
    "\n",
    "    # date format 변경\n",
    "    damage_sample_df.loc[:, 'log_created_time'] = damage_sample_df.loc[:, 'log_created_time'].apply(lambda x: change_date_format(x))\n",
    "\n",
    "    # 'None' string으로 저장된 Null values를 np.nan으로 변경\n",
    "    damage_sample_df.loc[damage_sample_df['damage_reason'] == 'None', 'damage_reason'] = np.nan\n",
    "\n",
    "    # 불필요한 컬럼 제거\n",
    "    damage_sample_df = damage_sample_df.drop(['_T', 'attacker', 'attack_id'], axis = 1)\n",
    "\n",
    "    return damage_sample_df"
   ]
  },
  {
   "cell_type": "markdown",
   "id": "02f8078e-b5d6-4b27-933d-f7df6a474768",
   "metadata": {},
   "source": [
    "## Get damage table by match id's from match_data"
   ]
  },
  {
   "cell_type": "code",
   "execution_count": 21,
   "id": "962d1bef-88b1-4b4c-8af1-dc632a7e3728",
   "metadata": {},
   "outputs": [
    {
     "name": "stderr",
     "output_type": "stream",
     "text": [
      "100%|███████████████████████████████████████████████████████████████████████████████████████████████| 47/47 [17:23<00:00, 22.20s/it]\n"
     ]
    }
   ],
   "source": [
    "# PUBG api authorize\n",
    "pubg = PUBG(api_key, shard = 'kakao')\n",
    "\n",
    "damage_df = pd.DataFrame()\n",
    "match_json = pd.read_json(os.path.join(data_path, 'match_data_27.json'))\n",
    "\n",
    "for idx in tqdm(range(len(match_json))):\n",
    "\n",
    "    match_id = match_json['data.id'][idx]\n",
    "    map_name = match_json['data.attributes.mapName'][idx]\n",
    "    \n",
    "    telemetry, mapy = get_telemetry(match_id, map_name)\n",
    "    \n",
    "    damage_df = pd.concat([damage_df, get_damage_df(telemetry, mapy)], axis = 0, ignore_index = True)\n",
    "    \n",
    "print(f'shape of Damage df: {damage_df.shape}')"
   ]
  },
  {
   "cell_type": "markdown",
   "id": "9ab1e549-fcd6-4c18-9fc8-9168485b7cea",
   "metadata": {},
   "source": [
    "## Insert into database"
   ]
  },
  {
   "cell_type": "code",
   "execution_count": null,
   "id": "6ad95e9e-6de8-41e5-b7f8-c436dc3d0ecf",
   "metadata": {},
   "outputs": [],
   "source": [
    "# # local\n",
    "# user = 'root'\n",
    "# password = 'mysql'\n",
    "# host = 'localhost'\n",
    "# port = 3306\n",
    "# database = 'pubg'\n",
    "\n",
    "# gcp\n",
    "user = ''\n",
    "password = ''\n",
    "host = ''\n",
    "port = \n",
    "database = ''"
   ]
  },
  {
   "cell_type": "code",
   "execution_count": null,
   "id": "9025da7b-bff8-40a9-9a0e-410bcae80e50",
   "metadata": {},
   "outputs": [],
   "source": [
    "def insert_data_to_db(data, table_name, connection, if_exist = 'append'):\n",
    "    \n",
    "    data.to_sql(index = False,\n",
    "                name = table_name,\n",
    "                con = connection,\n",
    "                if_exists = if_exist,\n",
    "                method = 'multi')"
   ]
  },
  {
   "cell_type": "code",
   "execution_count": null,
   "id": "5fcae34b-f64b-447f-b8fc-ca37a72f1f26",
   "metadata": {},
   "outputs": [],
   "source": [
    "engine = create_engine(f'mysql+pymysql://{user}:{password}@{host}:{port}/{database}', encoding = 'utf-8')\n",
    "engine_conn = engine_connect()\n",
    "\n",
    "insert_data_to_db(damage_df, 'damage', engine_conn)\n",
    "engine_conn.close()"
   ]
  }
 ],
 "metadata": {
  "kernelspec": {
   "display_name": "Python 3 (ipykernel)",
   "language": "python",
   "name": "python3"
  },
  "language_info": {
   "codemirror_mode": {
    "name": "ipython",
    "version": 3
   },
   "file_extension": ".py",
   "mimetype": "text/x-python",
   "name": "python",
   "nbconvert_exporter": "python",
   "pygments_lexer": "ipython3",
   "version": "3.8.12"
  }
 },
 "nbformat": 4,
 "nbformat_minor": 5
}
