{
 "cells": [
  {
   "cell_type": "code",
   "execution_count": 1,
   "id": "cf000b4a-9dcc-4cc8-a337-15b7433a27f9",
   "metadata": {},
   "outputs": [],
   "source": [
    "import pandas as pd\n",
    "import numpy as np\n",
    "\n",
    "import gc\n",
    "from tqdm import tqdm\n",
    "import time\n",
    "import os\n",
    "import warnings\n",
    "from datetime import datetime\n",
    "\n",
    "from chicken_dinner.pubgapi import PUBG\n",
    "from chicken_dinner.constants import map_dimensions\n",
    "\n",
    "import pymysql\n",
    "from sqlalchemy import create_engine\n",
    "\n",
    "pd.set_option('display.max_columns', None)\n",
    "pd.set_option('display.max_rows', 200)\n",
    "\n",
    "warnings.filterwarnings(action = 'ignore')\n",
    "\n",
    "path = os.getcwd()\n",
    "data_path = os.path.join(path, 'data')"
   ]
  },
  {
   "cell_type": "markdown",
   "id": "ca5f3fb2-042a-4b44-b725-4ed952d7d117",
   "metadata": {},
   "source": [
    "## Functions for web scrap item use object"
   ]
  },
  {
   "cell_type": "code",
   "execution_count": 6,
   "id": "123b3a22-e37a-484c-9fa5-05b22eef1bdb",
   "metadata": {},
   "outputs": [],
   "source": [
    "def change_date_format(timestamp):\n",
    "    timestamp = pd.Timestamp(timestamp).to_pydatetime().replace(tzinfo=None)\n",
    "    return timestamp"
   ]
  },
  {
   "cell_type": "code",
   "execution_count": 7,
   "id": "0a12d520-c266-46b2-a162-e2e2d5f4b006",
   "metadata": {},
   "outputs": [],
   "source": [
    "def get_telemetry(match_id, map_name):\n",
    "\n",
    "    current_match = pubg.match(match_id)\n",
    "    telemetry = current_match.get_telemetry()\n",
    "\n",
    "    if map_name == 'Tiger_Main':\n",
    "        mapx, mapy = map_dimensions['Desert_Main']\n",
    "    else:\n",
    "        mapx, mapy = map_dimensions[map_name]\n",
    "        \n",
    "    return telemetry, mapy"
   ]
  },
  {
   "cell_type": "code",
   "execution_count": 8,
   "id": "e2d3c1bb-1849-416f-b110-ae3efb725aa1",
   "metadata": {},
   "outputs": [],
   "source": [
    "def rename_column_names(column_names):\n",
    "    if len(column_names.split('.')) > 2:\n",
    "        return ('_').join(column_names.split('.')[-2:])\n",
    "    else:\n",
    "        return column_names.split('.')[-1]"
   ]
  },
  {
   "cell_type": "code",
   "execution_count": 14,
   "id": "18092fda-1e22-4781-8c8a-700a1beadf47",
   "metadata": {},
   "outputs": [],
   "source": [
    "def get_healing_boost_df(telemetry, mapy):\n",
    "\n",
    "    healing_boost_sample_df = pd.DataFrame()\n",
    "    \n",
    "    healing_boosts = telemetry.filter_by('log_item_use')\n",
    "    \n",
    "    healing_boost_items = ['Item_Heal_Bandage_C', 'Item_Boost_AdrenalineSyringe_C', 'Item_Boost_EnergyDrink_C', 'Item_Boost_PainKiller_C', 'Item_Heal_FirstAid_C', 'Item_Heal_MedKit_C']\n",
    "\n",
    "    # get use healing and boosting items dataframe of a match\n",
    "    for healing_boost in healing_boosts:\n",
    "        # bring healing and boost items\n",
    "        if healing_boost['item']['item_id'] in healing_boost_items:\n",
    "            healing_boost_sample_df = pd.concat([healing_boost_sample_df, pd.json_normalize(healing_boost.to_dict())], axis = 0, ignore_index = True)\n",
    "\n",
    "    # match table을 참조하는 Foreign key column\n",
    "    healing_boost_sample_df['match_id'] = match_id\n",
    "\n",
    "    # rename columns\n",
    "    healing_boost_sample_df.columns = list(map(lambda x: rename_column_names(x), healing_boost_sample_df.columns.tolist()))\n",
    "    healing_boost_sample_df = healing_boost_sample_df.rename(columns = {'_D': 'log_created_time'})\n",
    "\n",
    "    # DB에 삽입하기 위해 single string or None이 포함된 list를 string으로 변환\n",
    "    healing_boost_sample_df.loc[:, 'zone'] = healing_boost_sample_df.loc[:, 'zone'].apply(lambda x: x[0] if len(x) > 0 else np.nan)\n",
    "\n",
    "    # is_game의 0.1 값이 0.1000000001과 같은 값으로 저장되어 있어서 round 처리\n",
    "    healing_boost_sample_df.loc[:, 'is_game'] = round(healing_boost_sample_df.loc[:, 'is_game'], 1)\n",
    "\n",
    "    # map 시각화를 위해 y axis dimension 변경\n",
    "    healing_boost_sample_df.loc[:, 'location_y'] = mapy - healing_boost_sample_df.loc[:, 'location_y']\n",
    "\n",
    "    # date format 변경\n",
    "    healing_boost_sample_df.loc[:, 'log_created_time'] = healing_boost_sample_df.loc[:, 'log_created_time'].apply(lambda x: change_date_format(x))\n",
    "    \n",
    "    # 불필요한 컬럼 제거\n",
    "    healing_boost_sample_df = healing_boost_sample_df.drop(columns = ['_T', 'ranking', 'attached_items', 'category'], axis = 1)\n",
    "\n",
    "    return healing_boost_sample_df"
   ]
  },
  {
   "cell_type": "markdown",
   "id": "c68e2065-b5b4-4767-85b0-3bb50996f25a",
   "metadata": {},
   "source": [
    "## Get healing_boost table by match id's from match_data"
   ]
  },
  {
   "cell_type": "code",
   "execution_count": 15,
   "id": "962d1bef-88b1-4b4c-8af1-dc632a7e3728",
   "metadata": {},
   "outputs": [
    {
     "name": "stderr",
     "output_type": "stream",
     "text": [
      "100%|███████████████████████████████████████████████████████████████████████████████████████████████| 47/47 [03:37<00:00,  4.62s/it]\n"
     ]
    }
   ],
   "source": [
    "%%time\n",
    "\n",
    "# PUBG api authorize\n",
    "pubg = PUBG(api_key, shard = 'kakao')\n",
    "\n",
    "healing_boost_df = pd.DataFrame()\n",
    "match_json = pd.read_json(os.path.join(data_path, 'match_data.json'))\n",
    "\n",
    "for idx in tqdm(range(len(match_json))):\n",
    "\n",
    "    match_id = match_json['data.id'][idx]\n",
    "    map_name = match_json['data.attributes.mapName'][idx]\n",
    "    \n",
    "    telemetry, mapy = get_telemetry(match_id, map_name)\n",
    "    \n",
    "    healing_boost_df = pd.concat([healing_boost_df, get_healing_boost_df(telemetry, mapy)], axis = 0, ignore_index = True)\n",
    "    \n",
    "print(f'shape of Healing_boost df: {healing_boost_df.shape}')"
   ]
  },
  {
   "cell_type": "markdown",
   "id": "30d97458-cc2f-4166-bf5a-a7a796e18fd9",
   "metadata": {
    "tags": []
   },
   "source": [
    "## Insert into database"
   ]
  },
  {
   "cell_type": "code",
   "execution_count": null,
   "id": "511b37be-e6f9-4589-867a-e7981834db4e",
   "metadata": {},
   "outputs": [],
   "source": [
    "# # local\n",
    "# user = 'root'\n",
    "# password = 'mysql'\n",
    "# host = 'localhost'\n",
    "# port = 3306\n",
    "# database = 'pubg'\n",
    "\n",
    "# gcp\n",
    "user = ''\n",
    "password = ''\n",
    "host = ''\n",
    "port = \n",
    "database = ''"
   ]
  },
  {
   "cell_type": "code",
   "execution_count": null,
   "id": "30cc68ec-179f-43d3-adb7-7d063a1cb7a1",
   "metadata": {},
   "outputs": [],
   "source": [
    "def insert_data_to_db(data, table_name, connection, if_exist = 'append'):\n",
    "    \n",
    "    data.to_sql(index = False,\n",
    "                name = table_name,\n",
    "                con = connection,\n",
    "                if_exists = if_exist,\n",
    "                method = 'multi')"
   ]
  },
  {
   "cell_type": "code",
   "execution_count": null,
   "id": "9aef3e4f-d73f-45d1-88ce-be3e5ec769ea",
   "metadata": {},
   "outputs": [],
   "source": [
    "%%time\n",
    "\n",
    "engine = create_engine(f'mysql+pymysql://{user}:{password}@{host}:{port}/{database}', encoding = 'utf-8')\n",
    "engine_conn = engine_connect()\n",
    "\n",
    "insert_data_to_db(damage_df, 'damage', engine_conn)\n",
    "engine_conn.close()"
   ]
  }
 ],
 "metadata": {
  "kernelspec": {
   "display_name": "Python 3 (ipykernel)",
   "language": "python",
   "name": "python3"
  },
  "language_info": {
   "codemirror_mode": {
    "name": "ipython",
    "version": 3
   },
   "file_extension": ".py",
   "mimetype": "text/x-python",
   "name": "python",
   "nbconvert_exporter": "python",
   "pygments_lexer": "ipython3",
   "version": "3.8.12"
  }
 },
 "nbformat": 4,
 "nbformat_minor": 5
}
