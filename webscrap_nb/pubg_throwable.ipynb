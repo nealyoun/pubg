{
 "cells": [
  {
   "cell_type": "code",
   "execution_count": 1,
   "id": "cf000b4a-9dcc-4cc8-a337-15b7433a27f9",
   "metadata": {},
   "outputs": [],
   "source": [
    "import pandas as pd\n",
    "import numpy as np\n",
    "\n",
    "import gc\n",
    "from tqdm import tqdm\n",
    "import time\n",
    "import os\n",
    "import warnings\n",
    "from datetime import datetime\n",
    "\n",
    "from chicken_dinner.pubgapi import PUBG\n",
    "from chicken_dinner.constants import map_dimensions\n",
    "\n",
    "import pymysql\n",
    "from sqlalchemy import create_engine\n",
    "\n",
    "pd.set_option('display.max_columns', None)\n",
    "pd.set_option('display.max_rows', 200)\n",
    "\n",
    "warnings.filterwarnings(action = 'ignore')\n",
    "\n",
    "path = os.getcwd()\n",
    "data_path = os.path.join(path, 'data')"
   ]
  },
  {
   "cell_type": "markdown",
   "id": "4ef508bf-eb8d-4d7d-83d3-689fbc5fa126",
   "metadata": {},
   "source": [
    "## Functions for web scrap throwable object"
   ]
  },
  {
   "cell_type": "code",
   "execution_count": 6,
   "id": "123b3a22-e37a-484c-9fa5-05b22eef1bdb",
   "metadata": {},
   "outputs": [],
   "source": [
    "def change_date_format(timestamp):\n",
    "    timestamp = pd.Timestamp(timestamp).to_pydatetime().replace(tzinfo=None)\n",
    "    return timestamp"
   ]
  },
  {
   "cell_type": "code",
   "execution_count": 7,
   "id": "0a12d520-c266-46b2-a162-e2e2d5f4b006",
   "metadata": {},
   "outputs": [],
   "source": [
    "def get_telemetry(match_id, map_name):\n",
    "\n",
    "    current_match = pubg.match(match_id)\n",
    "    telemetry = current_match.get_telemetry()\n",
    "\n",
    "    if map_name == 'Tiger_Main':\n",
    "        mapx, mapy = map_dimensions['Desert_Main']\n",
    "    else:\n",
    "        mapx, mapy = map_dimensions[map_name]\n",
    "        \n",
    "    return telemetry, mapy"
   ]
  },
  {
   "cell_type": "code",
   "execution_count": 8,
   "id": "e2d3c1bb-1849-416f-b110-ae3efb725aa1",
   "metadata": {},
   "outputs": [],
   "source": [
    "def rename_column_names(column_names):\n",
    "    if len(column_names.split('.')) > 2:\n",
    "        return ('_').join(column_names.split('.')[-2:])\n",
    "    else:\n",
    "        return column_names.split('.')[-1]"
   ]
  },
  {
   "cell_type": "code",
   "execution_count": 13,
   "id": "18092fda-1e22-4781-8c8a-700a1beadf47",
   "metadata": {},
   "outputs": [],
   "source": [
    "def get_throwable_df(telemetry, mapy):\n",
    "\n",
    "    throwable_sample_df = pd.DataFrame()\n",
    "    \n",
    "    throwables = telemetry.filter_by('log_player_use_throwable')\n",
    "\n",
    "    # get use throwable items dataframe of a match\n",
    "    for throwable in throwables:\n",
    "        if throwable['weapon']['sub_category'] == 'Throwable':\n",
    "            throwable_sample_df = pd.concat([throwable_sample_df, pd.json_normalize(throwable.to_dict())], axis = 0, ignore_index = True)\n",
    "\n",
    "    # match table을 참조하는 Foreign key column\n",
    "    throwable_sample_df['match_id'] = match_id\n",
    "\n",
    "    # rename columns\n",
    "    throwable_sample_df.columns = list(map(lambda x: rename_column_names(x), throwable_sample_df.columns.tolist()))\n",
    "    throwable_sample_df = throwable_sample_df.rename(columns = {'_D': 'log_created_time'})\n",
    "\n",
    "    # DB에 삽입하기 위해 single string or None이 포함된 list를 string으로 변환\n",
    "    throwable_sample_df.loc[:, 'zone'] = throwable_sample_df.loc[:, 'zone'].apply(lambda x: x[0] if len(x) > 0 else np.nan)\n",
    "\n",
    "    # is_game의 0.1 값이 0.1000000001과 같은 값으로 저장되어 있어서 round 처리\n",
    "    throwable_sample_df.loc[:, 'is_game'] = round(throwable_sample_df.loc[:, 'is_game'], 1)\n",
    "\n",
    "    # map 시각화를 위해 y axis dimension 변경\n",
    "    throwable_sample_df.loc[:, 'location_y'] = mapy - throwable_sample_df.loc[:, 'location_y']\n",
    "\n",
    "    # date format 변경\n",
    "    throwable_sample_df.loc[:, 'log_created_time'] = throwable_sample_df.loc[:, 'log_created_time'].apply(lambda x: change_date_format(x))\n",
    "    \n",
    "    # 불필요한 컬럼 제거\n",
    "    throwable_sample_df = throwable_sample_df.drop(columns = ['_T', 'attack_id', 'attack_type', 'ranking', 'attached_items', 'category', 'stack_count'], axis = 1)\n",
    "\n",
    "    return throwable_sample_df"
   ]
  },
  {
   "cell_type": "markdown",
   "id": "ee1bab18-7ebd-4bb5-b67a-92e00d4d2adb",
   "metadata": {},
   "source": [
    "## Get throwable table by match id's from match_data"
   ]
  },
  {
   "cell_type": "code",
   "execution_count": 14,
   "id": "962d1bef-88b1-4b4c-8af1-dc632a7e3728",
   "metadata": {},
   "outputs": [
    {
     "name": "stderr",
     "output_type": "stream",
     "text": [
      "100%|███████████████████████████████████████████████████████████████████████████████████████████████| 47/47 [03:47<00:00,  4.85s/it]\n"
     ]
    }
   ],
   "source": [
    "%%time\n",
    "\n",
    "# PUBG api authorize\n",
    "pubg = PUBG(api_key, shard = 'kakao')\n",
    "\n",
    "throwable_df = pd.DataFrame()\n",
    "match_json = pd.read_json(os.path.join(data_path, 'match_data.json'))\n",
    "\n",
    "for idx in tqdm(range(len(match_json))):\n",
    "\n",
    "    match_id = match_json['data.id'][idx]\n",
    "    map_name = match_json['data.attributes.mapName'][idx]\n",
    "    \n",
    "    telemetry, mapy = get_telemetry(match_id, map_name)\n",
    "    \n",
    "    throwable_df = pd.concat([throwable_df, get_throwable_df(telemetry, mapy)], axis = 0, ignore_index = True)\n",
    "    \n",
    "print(f'shape of Throwable df: {throwable_df.shape}')"
   ]
  },
  {
   "cell_type": "markdown",
   "id": "d6272366-dc44-4f0e-b595-8d8f62dcd4c4",
   "metadata": {
    "tags": []
   },
   "source": [
    "## Insert into database"
   ]
  },
  {
   "cell_type": "code",
   "execution_count": null,
   "id": "abdfc289-ccca-445b-ac01-6a15f8ec01ac",
   "metadata": {},
   "outputs": [],
   "source": [
    "# # local\n",
    "# user = 'root'\n",
    "# password = 'mysql'\n",
    "# host = 'localhost'\n",
    "# port = 3306\n",
    "# database = 'pubg'\n",
    "\n",
    "# gcp\n",
    "user = ''\n",
    "password = ''\n",
    "host = ''\n",
    "port = \n",
    "database = ''"
   ]
  },
  {
   "cell_type": "code",
   "execution_count": null,
   "id": "9939831c-a590-4f86-a82c-f6545c891cf7",
   "metadata": {},
   "outputs": [],
   "source": [
    "def insert_data_to_db(data, table_name, connection, if_exist = 'append'):\n",
    "    \n",
    "    data.to_sql(index = False,\n",
    "                name = table_name,\n",
    "                con = connection,\n",
    "                if_exists = if_exist,\n",
    "                method = 'multi')"
   ]
  },
  {
   "cell_type": "code",
   "execution_count": null,
   "id": "267623ef-e7bc-431d-a406-6a42039e6a6d",
   "metadata": {},
   "outputs": [],
   "source": [
    "%%time\n",
    "\n",
    "engine = create_engine(f'mysql+pymysql://{user}:{password}@{host}:{port}/{database}', encoding = 'utf-8')\n",
    "engine_conn = engine_connect()\n",
    "\n",
    "insert_data_to_db(damage_df, 'damage', engine_conn)\n",
    "engine_conn.close()"
   ]
  }
 ],
 "metadata": {
  "kernelspec": {
   "display_name": "Python 3 (ipykernel)",
   "language": "python",
   "name": "python3"
  },
  "language_info": {
   "codemirror_mode": {
    "name": "ipython",
    "version": 3
   },
   "file_extension": ".py",
   "mimetype": "text/x-python",
   "name": "python",
   "nbconvert_exporter": "python",
   "pygments_lexer": "ipython3",
   "version": "3.8.12"
  }
 },
 "nbformat": 4,
 "nbformat_minor": 5
}
