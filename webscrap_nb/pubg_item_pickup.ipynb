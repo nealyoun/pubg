{
 "cells": [
  {
   "cell_type": "code",
   "execution_count": 1,
   "id": "cf000b4a-9dcc-4cc8-a337-15b7433a27f9",
   "metadata": {},
   "outputs": [],
   "source": [
    "import pandas as pd\n",
    "import numpy as np\n",
    "\n",
    "import gc\n",
    "from tqdm import tqdm\n",
    "import time\n",
    "import os\n",
    "import warnings\n",
    "from datetime import datetime\n",
    "\n",
    "from chicken_dinner.pubgapi import PUBG\n",
    "from chicken_dinner.constants import map_dimensions\n",
    "\n",
    "import pymysql\n",
    "from sqlalchemy import create_engine\n",
    "\n",
    "pd.set_option('display.max_columns', None)\n",
    "pd.set_option('display.max_rows', 200)\n",
    "\n",
    "warnings.filterwarnings(action = 'ignore')\n",
    "\n",
    "path = os.getcwd()\n",
    "data_path = os.path.join(path, 'data')"
   ]
  },
  {
   "cell_type": "markdown",
   "id": "2bd5a0b0-6945-4164-adbd-40e9a9ca4328",
   "metadata": {},
   "source": [
    "## Functions for web scrap item pickup object"
   ]
  },
  {
   "cell_type": "code",
   "execution_count": 6,
   "id": "123b3a22-e37a-484c-9fa5-05b22eef1bdb",
   "metadata": {},
   "outputs": [],
   "source": [
    "def change_date_format(timestamp):\n",
    "    timestamp = pd.Timestamp(timestamp).to_pydatetime().replace(tzinfo=None)\n",
    "    return timestamp"
   ]
  },
  {
   "cell_type": "code",
   "execution_count": 7,
   "id": "0a12d520-c266-46b2-a162-e2e2d5f4b006",
   "metadata": {},
   "outputs": [],
   "source": [
    "def get_telemetry(match_id, map_name):\n",
    "\n",
    "    current_match = pubg.match(match_id)\n",
    "    telemetry = current_match.get_telemetry()\n",
    "\n",
    "    if map_name == 'Tiger_Main':\n",
    "        mapx, mapy = map_dimensions['Desert_Main']\n",
    "    else:\n",
    "        mapx, mapy = map_dimensions[map_name]\n",
    "        \n",
    "    return telemetry, mapy"
   ]
  },
  {
   "cell_type": "code",
   "execution_count": 8,
   "id": "e2d3c1bb-1849-416f-b110-ae3efb725aa1",
   "metadata": {},
   "outputs": [],
   "source": [
    "def rename_column_names(column_names):\n",
    "    if len(column_names.split('.')) > 2:\n",
    "        return ('_').join(column_names.split('.')[-2:])\n",
    "    else:\n",
    "        return column_names.split('.')[-1]"
   ]
  },
  {
   "cell_type": "code",
   "execution_count": 9,
   "id": "18092fda-1e22-4781-8c8a-700a1beadf47",
   "metadata": {},
   "outputs": [],
   "source": [
    "def get_item_pickup_df(telemetry, mapy):\n",
    "\n",
    "    item_pickup_sample_df = pd.DataFrame()\n",
    "    used_id = []\n",
    "    \n",
    "    item_pickups = telemetry.filter_by('log_item_pickup')\n",
    "    \n",
    "    # get item pickup dataframe of a match\n",
    "    for item_pickup in item_pickups:\n",
    "        if (item_pickup['character']['account_id'] not in used_id) & (item_pickup['common']['is_game'] > 0):\n",
    "            item_pickup_sample_df = pd.concat([item_pickup_sample_df, pd.json_normalize(item_pickup.to_dict())], axis = 0, ignore_index = True)\n",
    "            used_id.append(item_pickup['character']['account_id'])\n",
    "            \n",
    "    # match table을 참조하는 Foreign key column\n",
    "    item_pickup_sample_df['match_id'] = match_id\n",
    "\n",
    "    # rename columns\n",
    "    item_pickup_sample_df.columns = list(map(lambda x: rename_column_names(x), item_pickup_sample_df.columns.tolist()))\n",
    "    item_pickup_sample_df = item_pickup_sample_df.rename(columns = {'_D': 'log_created_time'})\n",
    "\n",
    "    # DB에 삽입하기 위해 single string or None이 포함된 list를 string으로 변환\n",
    "    item_pickup_sample_df.loc[:, 'zone'] = item_pickup_sample_df.loc[:, 'zone'].apply(lambda x: x[0] if len(x) > 0 else np.nan)\n",
    "\n",
    "    # is_game의 0.1 값이 0.1000000001과 같은 값으로 저장되어 있어서 round 처리\n",
    "    item_pickup_sample_df.loc[:, 'is_game'] = round(item_pickup_sample_df.loc[:, 'is_game'], 1)\n",
    "\n",
    "    # map 시각화를 위해 y axis dimension 변경\n",
    "    item_pickup_sample_df.loc[:, 'location_y'] = mapy - item_pickup_sample_df.loc[:, 'location_y']\n",
    "\n",
    "    # date format 변경\n",
    "    item_pickup_sample_df.loc[:, 'log_created_time'] = item_pickup_sample_df.loc[:, 'log_created_time'].apply(lambda x: change_date_format(x))\n",
    "    \n",
    "    # 불필요한 컬럼 제거\n",
    "    item_pickup_sample_df = item_pickup_sample_df.drop(columns = ['_T', 'ranking', 'attached_items', 'category', 'stack_count'], axis = 1)\n",
    "\n",
    "    return item_pickup_sample_df"
   ]
  },
  {
   "cell_type": "markdown",
   "id": "790feffb-056e-4a78-95a0-cadeeae973f4",
   "metadata": {},
   "source": [
    "## Get item_pickup table by match id's from match_data"
   ]
  },
  {
   "cell_type": "code",
   "execution_count": 11,
   "id": "962d1bef-88b1-4b4c-8af1-dc632a7e3728",
   "metadata": {},
   "outputs": [
    {
     "name": "stderr",
     "output_type": "stream",
     "text": [
      "100%|███████████████████████████████████████████████████████████████████████████████████████████████| 47/47 [03:12<00:00,  4.09s/it]\n"
     ]
    }
   ],
   "source": [
    "%%time\n",
    "\n",
    "# PUBG api authorize\n",
    "pubg = PUBG(api_key, shard = 'kakao')\n",
    "\n",
    "item_pickup_df = pd.DataFrame()\n",
    "match_json = pd.read_json(os.path.join(data_path, 'match_data.json'))\n",
    "\n",
    "for idx in tqdm(range(len(match_json))):\n",
    "\n",
    "    match_id = match_json['data.id'][idx]\n",
    "    map_name = match_json['data.attributes.mapName'][idx]\n",
    "    \n",
    "    telemetry, mapy = get_telemetry(match_id, map_name)\n",
    "    \n",
    "    item_pickup_df = pd.concat([item_pickup_df, get_item_pickup_df(telemetry, mapy)], axis = 0, ignore_index = True)\n",
    "    \n",
    "print(f'shape of Item_pickup df: {item_pickup_df.shape}')"
   ]
  },
  {
   "cell_type": "markdown",
   "id": "67c87946-6613-4cce-961f-5409644cab27",
   "metadata": {
    "tags": []
   },
   "source": [
    "## Insert into database"
   ]
  },
  {
   "cell_type": "code",
   "execution_count": null,
   "id": "212d6166-f517-4e41-818a-a666ca2ac07b",
   "metadata": {},
   "outputs": [],
   "source": [
    "# # local\n",
    "# user = 'root'\n",
    "# password = 'mysql'\n",
    "# host = 'localhost'\n",
    "# port = 3306\n",
    "# database = 'pubg'\n",
    "\n",
    "# gcp\n",
    "user = ''\n",
    "password = ''\n",
    "host = ''\n",
    "port = \n",
    "database = ''"
   ]
  },
  {
   "cell_type": "code",
   "execution_count": null,
   "id": "787cfb6e-938a-4789-afb1-5fa182d18835",
   "metadata": {},
   "outputs": [],
   "source": [
    "def insert_data_to_db(data, table_name, connection, if_exist = 'append'):\n",
    "    \n",
    "    data.to_sql(index = False,\n",
    "                name = table_name,\n",
    "                con = connection,\n",
    "                if_exists = if_exist,\n",
    "                method = 'multi')"
   ]
  },
  {
   "cell_type": "code",
   "execution_count": null,
   "id": "a4d9dcc6-bfc0-4b00-abdf-619f43374e7c",
   "metadata": {},
   "outputs": [],
   "source": [
    "%%time\n",
    "\n",
    "engine = create_engine(f'mysql+pymysql://{user}:{password}@{host}:{port}/{database}', encoding = 'utf-8')\n",
    "engine_conn = engine_connect()\n",
    "\n",
    "insert_data_to_db(damage_df, 'damage', engine_conn)\n",
    "engine_conn.close()"
   ]
  }
 ],
 "metadata": {
  "kernelspec": {
   "display_name": "Python 3 (ipykernel)",
   "language": "python",
   "name": "python3"
  },
  "language_info": {
   "codemirror_mode": {
    "name": "ipython",
    "version": 3
   },
   "file_extension": ".py",
   "mimetype": "text/x-python",
   "name": "python",
   "nbconvert_exporter": "python",
   "pygments_lexer": "ipython3",
   "version": "3.8.12"
  }
 },
 "nbformat": 4,
 "nbformat_minor": 5
}
